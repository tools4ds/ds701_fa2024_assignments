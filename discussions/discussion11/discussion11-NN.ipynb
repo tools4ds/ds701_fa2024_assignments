{
 "cells": [
  {
   "cell_type": "markdown",
   "metadata": {},
   "source": [
    "# Discussion 11: Neural Networks\n",
    "\n",
    "This notebook is an introduction to PyTorch. We are going to cover the following topics:\n",
    "\n",
    "- Tensor Operations\n",
    "- Data Loading \n",
    "- Loss functions\n",
    "- Model definition and training"
   ]
  },
  {
   "cell_type": "code",
   "execution_count": 54,
   "metadata": {},
   "outputs": [],
   "source": [
    "import torch\n",
    "import torch.nn as nn\n",
    "import torch.optim as optim\n",
    "import torch.nn.functional as F\n",
    "\n",
    "import numpy as np"
   ]
  },
  {
   "cell_type": "markdown",
   "metadata": {},
   "source": [
    "## Tensor Operations\n",
    "\n",
    "In PyTorch, tensors are the fundamental data structure used to represent data and model parameters. Tensors are similar to NumPy arrays but can be run on GPUs for faster computation. They support various mathematical operations like addition, multiplication, matrix operations, and more. These operations are essential for implementing neural networks and performing gradient-based optimization."
   ]
  },
  {
   "cell_type": "markdown",
   "metadata": {},
   "source": [
    "### Basics - creation and manipulation"
   ]
  },
  {
   "cell_type": "code",
   "execution_count": 55,
   "metadata": {},
   "outputs": [
    {
     "name": "stdout",
     "output_type": "stream",
     "text": [
      "tensor([1., 2., 3.]) torch.Size([3])\n",
      "tensor([[1., 1., 1.],\n",
      "        [1., 1., 1.]]) torch.Size([2, 3])\n",
      "tensor([[0., 0., 0.],\n",
      "        [0., 0., 0.],\n",
      "        [0., 0., 0.]]) torch.Size([3, 3])\n"
     ]
    }
   ],
   "source": [
    "tensor1 = torch.tensor([1.0, 2.0, 3.0])\n",
    "tensor2 = torch.ones((2, 3))\n",
    "tensor3 = torch.zeros((3, 3))\n",
    "\n",
    "print(tensor1, tensor1.shape)\n",
    "print(tensor2, tensor2.shape)\n",
    "print(tensor3, tensor3.shape)"
   ]
  },
  {
   "cell_type": "code",
   "execution_count": 56,
   "metadata": {},
   "outputs": [
    {
     "name": "stdout",
     "output_type": "stream",
     "text": [
      "tensor([2., 4., 6.]) torch.Size([3])\n",
      "tensor([2., 4., 6.]) torch.Size([3])\n",
      "\n",
      "tensor([[0.6124, 1.3634, 0.8993],\n",
      "        [0.2750, 0.9861, 0.4405],\n",
      "        [0.2071, 0.1963, 0.2277]]) torch.Size([3, 3])\n"
     ]
    }
   ],
   "source": [
    "added_tensor = tensor1 + tensor1\n",
    "multiplied_tensor = tensor1 * 2\n",
    "\n",
    "print(added_tensor, added_tensor.shape)\n",
    "print(multiplied_tensor, multiplied_tensor.shape)\n",
    "\n",
    "print()\n",
    "\n",
    "# Matrix multiplication\n",
    "matrix1 = torch.rand((3, 3))\n",
    "matrix2 = torch.rand((3, 3))\n",
    "result = torch.matmul(matrix1, matrix2)\n",
    "\n",
    "print(result, result.shape)"
   ]
  },
  {
   "cell_type": "markdown",
   "metadata": {},
   "source": [
    "You can generate tensors of the same size as others, using the `torch_*like` methods. "
   ]
  },
  {
   "cell_type": "code",
   "execution_count": 57,
   "metadata": {},
   "outputs": [
    {
     "name": "stdout",
     "output_type": "stream",
     "text": [
      "torch.Size([2, 2, 3])\n",
      "tensor([[[0., 0., 0.],\n",
      "         [0., 0., 0.]],\n",
      "\n",
      "        [[0., 0., 0.],\n",
      "         [0., 0., 0.]]])\n",
      "Zeros like x:\n",
      "torch.Size([2, 2, 3])\n",
      "tensor([[[0., 0., 0.],\n",
      "         [0., 0., 0.]],\n",
      "\n",
      "        [[0., 0., 0.],\n",
      "         [0., 0., 0.]]])\n",
      "Ones like x:\n",
      "torch.Size([2, 2, 3])\n",
      "tensor([[[1., 1., 1.],\n",
      "         [1., 1., 1.]],\n",
      "\n",
      "        [[1., 1., 1.],\n",
      "         [1., 1., 1.]]])\n",
      "Random like x:\n",
      "torch.Size([2, 2, 3])\n",
      "tensor([[[0.9037, 0.9555, 0.1035],\n",
      "         [0.6258, 0.2849, 0.4452]],\n",
      "\n",
      "        [[0.1258, 0.9554, 0.1330],\n",
      "         [0.7672, 0.6757, 0.6625]]])\n"
     ]
    }
   ],
   "source": [
    "x = torch.empty(2, 2, 3)\n",
    "print(x.shape)\n",
    "print(x)\n",
    "\n",
    "print(\"Zeros like x:\")\n",
    "zeros_like_x = torch.zeros_like(x)\n",
    "print(zeros_like_x.shape)\n",
    "print(zeros_like_x)\n",
    "\n",
    "print(\"Ones like x:\")\n",
    "ones_like_x = torch.ones_like(x)\n",
    "print(ones_like_x.shape)\n",
    "print(ones_like_x)\n",
    "\n",
    "print(\"Random like x:\")\n",
    "rand_like_x = torch.rand_like(x)\n",
    "print(rand_like_x.shape)\n",
    "print(rand_like_x)"
   ]
  },
  {
   "cell_type": "markdown",
   "metadata": {},
   "source": [
    "### Manipulating tensor shapes"
   ]
  },
  {
   "cell_type": "code",
   "execution_count": 58,
   "metadata": {},
   "outputs": [
    {
     "name": "stdout",
     "output_type": "stream",
     "text": [
      "tensor([[[0.2297, 0.9545, 0.6099, 0.5643],\n",
      "         [0.0594, 0.7099, 0.4250, 0.2709],\n",
      "         [0.9295, 0.6115, 0.2234, 0.2469]],\n",
      "\n",
      "        [[0.4761, 0.7792, 0.3722, 0.2147],\n",
      "         [0.3288, 0.1265, 0.6783, 0.8870],\n",
      "         [0.0293, 0.6161, 0.7583, 0.5907]]]) torch.Size([2, 3, 4])\n",
      "\n",
      "tensor([[0.2297, 0.9545, 0.6099, 0.5643, 0.0594, 0.7099, 0.4250, 0.2709, 0.9295,\n",
      "         0.6115, 0.2234, 0.2469],\n",
      "        [0.4761, 0.7792, 0.3722, 0.2147, 0.3288, 0.1265, 0.6783, 0.8870, 0.0293,\n",
      "         0.6161, 0.7583, 0.5907]]) torch.Size([2, 12])\n"
     ]
    }
   ],
   "source": [
    "md_tensor = torch.rand((2, 3, 4))\n",
    "print(md_tensor, md_tensor.shape)\n",
    "\n",
    "print()\n",
    "\n",
    "reshaped_tensor = md_tensor.reshape(2, 12)\n",
    "print(reshaped_tensor, reshaped_tensor.shape)"
   ]
  },
  {
   "cell_type": "code",
   "execution_count": 59,
   "metadata": {},
   "outputs": [
    {
     "name": "stdout",
     "output_type": "stream",
     "text": [
      "torch.Size([3, 226, 226])\n",
      "torch.Size([1, 3, 226, 226])\n"
     ]
    }
   ],
   "source": [
    "a = torch.rand(3, 226, 226)\n",
    "b = a.unsqueeze(0)\n",
    "\n",
    "print(a.shape)\n",
    "print(b.shape)"
   ]
  },
  {
   "cell_type": "code",
   "execution_count": 60,
   "metadata": {},
   "outputs": [
    {
     "name": "stdout",
     "output_type": "stream",
     "text": [
      "torch.Size([1, 20])\n",
      "tensor([[0.5375, 0.0375, 0.0679, 0.7464, 0.4228, 0.0627, 0.9277, 0.3241, 0.0866,\n",
      "         0.0619, 0.5990, 0.1895, 0.0684, 0.7237, 0.4025, 0.9298, 0.1692, 0.7894,\n",
      "         0.4959, 0.8418]])\n",
      "torch.Size([20])\n",
      "tensor([0.5375, 0.0375, 0.0679, 0.7464, 0.4228, 0.0627, 0.9277, 0.3241, 0.0866,\n",
      "        0.0619, 0.5990, 0.1895, 0.0684, 0.7237, 0.4025, 0.9298, 0.1692, 0.7894,\n",
      "        0.4959, 0.8418])\n",
      "torch.Size([2, 2])\n",
      "torch.Size([2, 2])\n"
     ]
    }
   ],
   "source": [
    "a = torch.rand(1, 20)\n",
    "print(a.shape)\n",
    "print(a)\n",
    "\n",
    "b = a.squeeze(0)\n",
    "print(b.shape)\n",
    "print(b)\n",
    "\n",
    "c = torch.rand(2, 2)\n",
    "print(c.shape)\n",
    "\n",
    "d = c.squeeze(0)\n",
    "print(d.shape)"
   ]
  },
  {
   "cell_type": "markdown",
   "metadata": {},
   "source": [
    "### Gradient Calculation"
   ]
  },
  {
   "cell_type": "code",
   "execution_count": 61,
   "metadata": {},
   "outputs": [
    {
     "name": "stdout",
     "output_type": "stream",
     "text": [
      "tensor(4., requires_grad=True)\n",
      "tensor(16., grad_fn=<PowBackward0>)\n",
      "tensor(8.)\n"
     ]
    }
   ],
   "source": [
    "x = torch.tensor(4.0, requires_grad=True)\n",
    "y = x ** 2\n",
    "print(x)\n",
    "print(y)\n",
    "y.backward()\n",
    "print(x.grad)"
   ]
  },
  {
   "cell_type": "markdown",
   "metadata": {},
   "source": [
    "## Dataloading\n",
    "\n",
    "PyTorch contains a set of modules that support comprehensive data loading and manipulation for images, text, even audio and video. These are usually in the `torch.utils` and `torchvision` libraries. \n",
    "\n",
    "In this section, we will use a dataset on [breast cancer](https://scikit-learn.org/stable/modules/generated/sklearn.datasets.load_breast_cancer.html) from sklearn. We will appropriate it to a [PyTorch Dataset](https://pytorch.org/tutorials/beginner/basics/data_tutorial.html) for model training later. The feature we'll be predicting is called `target`."
   ]
  },
  {
   "cell_type": "code",
   "execution_count": 62,
   "metadata": {},
   "outputs": [
    {
     "name": "stdout",
     "output_type": "stream",
     "text": [
      ".. _breast_cancer_dataset:\n",
      "\n",
      "Breast cancer wisconsin (diagnostic) dataset\n",
      "--------------------------------------------\n",
      "\n",
      "**Data Set Characteristics:**\n",
      "\n",
      "    :Number of Instances: 569\n",
      "\n",
      "    :Number of Attributes: 30 numeric, predictive attributes and the class\n",
      "\n",
      "    :Attribute Information:\n",
      "        - radius (mean of distances from center to points on the perimeter)\n",
      "        - texture (standard deviation of gray-scale values)\n",
      "        - perimeter\n",
      "        - area\n",
      "        - smoothness (local variation in radius lengths)\n",
      "        - compactness (perimeter^2 / area - 1.0)\n",
      "        - concavity (severity of concave portions of the contour)\n",
      "        - concave points (number of concave portions of the contour)\n",
      "        - symmetry\n",
      "        - fractal dimension (\"coastline approximation\" - 1)\n",
      "\n",
      "        The mean, standard error, and \"worst\" or largest (mean of the three\n",
      "        worst/largest values) of these features were computed for each image,\n",
      "        resulting in 30 features.  For instance, field 0 is Mean Radius, field\n",
      "        10 is Radius SE, field 20 is Worst Radius.\n",
      "\n",
      "        - class:\n",
      "                - WDBC-Malignant\n",
      "                - WDBC-Benign\n",
      "\n",
      "    :Summary Statistics:\n",
      "\n",
      "    ===================================== ====== ======\n",
      "                                           Min    Max\n",
      "    ===================================== ====== ======\n",
      "    radius (mean):                        6.981  28.11\n",
      "    texture (mean):                       9.71   39.28\n",
      "    perimeter (mean):                     43.79  188.5\n",
      "    area (mean):                          143.5  2501.0\n",
      "    smoothness (mean):                    0.053  0.163\n",
      "    compactness (mean):                   0.019  0.345\n",
      "    concavity (mean):                     0.0    0.427\n",
      "    concave points (mean):                0.0    0.201\n",
      "    symmetry (mean):                      0.106  0.304\n",
      "    fractal dimension (mean):             0.05   0.097\n",
      "    radius (standard error):              0.112  2.873\n",
      "    texture (standard error):             0.36   4.885\n",
      "    perimeter (standard error):           0.757  21.98\n",
      "    area (standard error):                6.802  542.2\n",
      "    smoothness (standard error):          0.002  0.031\n",
      "    compactness (standard error):         0.002  0.135\n",
      "    concavity (standard error):           0.0    0.396\n",
      "    concave points (standard error):      0.0    0.053\n",
      "    symmetry (standard error):            0.008  0.079\n",
      "    fractal dimension (standard error):   0.001  0.03\n",
      "    radius (worst):                       7.93   36.04\n",
      "    texture (worst):                      12.02  49.54\n",
      "    perimeter (worst):                    50.41  251.2\n",
      "    area (worst):                         185.2  4254.0\n",
      "    smoothness (worst):                   0.071  0.223\n",
      "    compactness (worst):                  0.027  1.058\n",
      "    concavity (worst):                    0.0    1.252\n",
      "    concave points (worst):               0.0    0.291\n",
      "    symmetry (worst):                     0.156  0.664\n",
      "    fractal dimension (worst):            0.055  0.208\n",
      "    ===================================== ====== ======\n",
      "\n",
      "    :Missing Attribute Values: None\n",
      "\n",
      "    :Class Distribution: 212 - Malignant, 357 - Benign\n",
      "\n",
      "    :Creator:  Dr. William H. Wolberg, W. Nick Street, Olvi L. Mangasarian\n",
      "\n",
      "    :Donor: Nick Street\n",
      "\n",
      "    :Date: November, 1995\n",
      "\n",
      "This is a copy of UCI ML Breast Cancer Wisconsin (Diagnostic) datasets.\n",
      "https://goo.gl/U2Uwz2\n",
      "\n",
      "Features are computed from a digitized image of a fine needle\n",
      "aspirate (FNA) of a breast mass.  They describe\n",
      "characteristics of the cell nuclei present in the image.\n",
      "\n",
      "Separating plane described above was obtained using\n",
      "Multisurface Method-Tree (MSM-T) [K. P. Bennett, \"Decision Tree\n",
      "Construction Via Linear Programming.\" Proceedings of the 4th\n",
      "Midwest Artificial Intelligence and Cognitive Science Society,\n",
      "pp. 97-101, 1992], a classification method which uses linear\n",
      "programming to construct a decision tree.  Relevant features\n",
      "were selected using an exhaustive search in the space of 1-4\n",
      "features and 1-3 separating planes.\n",
      "\n",
      "The actual linear program used to obtain the separating plane\n",
      "in the 3-dimensional space is that described in:\n",
      "[K. P. Bennett and O. L. Mangasarian: \"Robust Linear\n",
      "Programming Discrimination of Two Linearly Inseparable Sets\",\n",
      "Optimization Methods and Software 1, 1992, 23-34].\n",
      "\n",
      "This database is also available through the UW CS ftp server:\n",
      "\n",
      "ftp ftp.cs.wisc.edu\n",
      "cd math-prog/cpo-dataset/machine-learn/WDBC/\n",
      "\n",
      ".. topic:: References\n",
      "\n",
      "   - W.N. Street, W.H. Wolberg and O.L. Mangasarian. Nuclear feature extraction \n",
      "     for breast tumor diagnosis. IS&T/SPIE 1993 International Symposium on \n",
      "     Electronic Imaging: Science and Technology, volume 1905, pages 861-870,\n",
      "     San Jose, CA, 1993.\n",
      "   - O.L. Mangasarian, W.N. Street and W.H. Wolberg. Breast cancer diagnosis and \n",
      "     prognosis via linear programming. Operations Research, 43(4), pages 570-577, \n",
      "     July-August 1995.\n",
      "   - W.H. Wolberg, W.N. Street, and O.L. Mangasarian. Machine learning techniques\n",
      "     to diagnose breast cancer from fine-needle aspirates. Cancer Letters 77 (1994) \n",
      "     163-171.\n"
     ]
    }
   ],
   "source": [
    "from torch.utils.data import Dataset, DataLoader, random_split\n",
    "\n",
    "# torchvision imports\n",
    "from torchvision.datasets import FashionMNIST\n",
    "from torchvision.transforms import ToTensor\n",
    "from torchvision.utils import make_grid\n",
    "\n",
    "from sklearn.datasets import load_breast_cancer\n",
    "\n",
    "dataset = load_breast_cancer(as_frame=True)\n",
    "\n",
    "# Get a description of the datasetb\n",
    "print(dataset.DESCR)"
   ]
  },
  {
   "cell_type": "code",
   "execution_count": 63,
   "metadata": {},
   "outputs": [
    {
     "name": "stdout",
     "output_type": "stream",
     "text": [
      "(569, 30)\n",
      "(569,)\n"
     ]
    }
   ],
   "source": [
    "# X is a Pandas dataframe\n",
    "# The columns are the features\n",
    "X = dataset.data\n",
    "# y is a Pandas series with the target class labels (0 - malignant, 1 - benign)\n",
    "y = dataset.target\n",
    "\n",
    "print(X.shape)\n",
    "print(y.shape)"
   ]
  },
  {
   "cell_type": "code",
   "execution_count": 64,
   "metadata": {},
   "outputs": [
    {
     "name": "stdout",
     "output_type": "stream",
     "text": [
      "<class 'pandas.core.frame.DataFrame'>\n",
      "RangeIndex: 569 entries, 0 to 568\n",
      "Data columns (total 30 columns):\n",
      " #   Column                   Non-Null Count  Dtype  \n",
      "---  ------                   --------------  -----  \n",
      " 0   mean radius              569 non-null    float64\n",
      " 1   mean texture             569 non-null    float64\n",
      " 2   mean perimeter           569 non-null    float64\n",
      " 3   mean area                569 non-null    float64\n",
      " 4   mean smoothness          569 non-null    float64\n",
      " 5   mean compactness         569 non-null    float64\n",
      " 6   mean concavity           569 non-null    float64\n",
      " 7   mean concave points      569 non-null    float64\n",
      " 8   mean symmetry            569 non-null    float64\n",
      " 9   mean fractal dimension   569 non-null    float64\n",
      " 10  radius error             569 non-null    float64\n",
      " 11  texture error            569 non-null    float64\n",
      " 12  perimeter error          569 non-null    float64\n",
      " 13  area error               569 non-null    float64\n",
      " 14  smoothness error         569 non-null    float64\n",
      " 15  compactness error        569 non-null    float64\n",
      " 16  concavity error          569 non-null    float64\n",
      " 17  concave points error     569 non-null    float64\n",
      " 18  symmetry error           569 non-null    float64\n",
      " 19  fractal dimension error  569 non-null    float64\n",
      " 20  worst radius             569 non-null    float64\n",
      " 21  worst texture            569 non-null    float64\n",
      " 22  worst perimeter          569 non-null    float64\n",
      " 23  worst area               569 non-null    float64\n",
      " 24  worst smoothness         569 non-null    float64\n",
      " 25  worst compactness        569 non-null    float64\n",
      " 26  worst concavity          569 non-null    float64\n",
      " 27  worst concave points     569 non-null    float64\n",
      " 28  worst symmetry           569 non-null    float64\n",
      " 29  worst fractal dimension  569 non-null    float64\n",
      "dtypes: float64(30)\n",
      "memory usage: 133.5 KB\n"
     ]
    }
   ],
   "source": [
    "X.info()"
   ]
  },
  {
   "cell_type": "code",
   "execution_count": 65,
   "metadata": {},
   "outputs": [
    {
     "data": {
      "text/plain": [
       "564    0\n",
       "565    0\n",
       "566    0\n",
       "567    0\n",
       "568    1\n",
       "Name: target, dtype: int64"
      ]
     },
     "execution_count": 65,
     "metadata": {},
     "output_type": "execute_result"
    }
   ],
   "source": [
    "y.tail()"
   ]
  },
  {
   "cell_type": "markdown",
   "metadata": {},
   "source": [
    "#### Dataset class\n",
    "\n",
    "The dataset class retrieves the dataset's features and labels one sample at a time. To create your own instance from this class you must overload the three methods:\n",
    "\n",
    "- `__init__(self, params)`, which runs functions when the Dataset object is created\n",
    "- `__len__(self)`, which returns the number of samples in the dataset\n",
    "- `__getitem__(self, index)`, which returns a sample from the dataset at a given index"
   ]
  },
  {
   "cell_type": "code",
   "execution_count": 66,
   "metadata": {},
   "outputs": [
    {
     "name": "stdout",
     "output_type": "stream",
     "text": [
      "(tensor([ 1.7744,  2.3593,  1.9123,  1.6607,  1.4866,  3.2222,  3.2600,  2.5807,\n",
      "         2.1916,  1.0366,  1.0894,  0.7254,  1.3450,  0.9398, -0.1815,  2.0656,\n",
      "         1.6833,  0.7815,  0.3781,  0.9643,  1.9131,  2.2777,  2.2400,  1.6101,\n",
      "         1.4341,  3.8546,  3.2018,  2.2533,  2.0322,  2.2009]), tensor([0.]))\n",
      "455\n"
     ]
    }
   ],
   "source": [
    "from sklearn.model_selection import train_test_split\n",
    "from sklearn.preprocessing import StandardScaler\n",
    "\n",
    "# Using the train_test_split method we split 80% of the data into the X_train, y_train numpy arrays\n",
    "# The remaining 20% is our X_test and y_test\n",
    "X_train, X_test, y_train, y_test = train_test_split(\n",
    "    X.to_numpy(), y.to_numpy(), test_size=0.20, random_state=10)\n",
    "\n",
    "# Create a StandardScaler object\n",
    "sc = StandardScaler()\n",
    "\n",
    "# The StandardScaler standardizes features by removing the mean and scaling to unit variance\n",
    "# Prevents features with larger variances to dominate\n",
    "# We only need to apply this to our training/testing input data since the output is binary 0/1\n",
    "X_train = sc.fit_transform(X_train)\n",
    "X_test = sc.fit_transform(X_test)\n",
    "\n",
    "\n",
    "# Create a dataset class called WisconsinDataset\n",
    "class WisconsinDataset(Dataset):\n",
    "  def __init__(self, X_train, y_train):\n",
    "    # need to convert float64 to float32\n",
    "    self.X = torch.from_numpy(X_train.astype(np.float32))\n",
    "    # Need to convert int64 to float32 and use the\n",
    "    # unsqueeze function to create an output vector with appropriate dimensions\n",
    "    self.y = torch.from_numpy(y_train.astype(np.float32)).unsqueeze(1)\n",
    "    self.len = self.X.shape[0]\n",
    "\n",
    "  def __len__(self):\n",
    "    return self.len\n",
    "\n",
    "  def __getitem__(self, index):\n",
    "    return self.X[index], self.y[index]\n",
    "  \n",
    "# Instantiate the training data\n",
    "traindata = WisconsinDataset(X_train, y_train)\n",
    "\n",
    "print(traindata[0])\n",
    "print(len(traindata))"
   ]
  },
  {
   "cell_type": "markdown",
   "metadata": {},
   "source": [
    "#### Dataloader class\n",
    "\n",
    "The DataLoader class is an iterable object that abstracts the complex data passing process from the dataset to the model. It passes samples in minibatches. It can reshuffle the data at every epoch to reduce model overfitting. It uses Python’s multiprocessing to speed up data retrieval."
   ]
  },
  {
   "cell_type": "code",
   "execution_count": 67,
   "metadata": {},
   "outputs": [],
   "source": [
    "batch_size = 4\n",
    "trainloader = DataLoader(traindata, batch_size=batch_size)"
   ]
  },
  {
   "cell_type": "markdown",
   "metadata": {},
   "source": [
    "#### Module class \n",
    "\n",
    "The torch `nn.Module` class is how to implement a specific model. If you are creating a neural network model from scratch, this is where you will define the model architecture. You only need to overload the following two methods:\n",
    "\n",
    "- `__init__(self)`, which sets up the architecture\n",
    "- `forward(self, x)`, which defines the forward propagation.\n",
    "\n",
    "You can also define other methods in this class. For instance you could create functions to take train/validate/test the model.\n",
    "\n",
    "For details on the kinds of layers you can create, see the documentation on the `torch.nn` class:\n",
    "\n",
    "https://pytorch.org/docs/stable/nn.html\n",
    "\n",
    "For details on the kinds of activation functions you can use, see:\n",
    "\n",
    "https://pytorch.org/docs/stable/nn.html#non-linear-activations-weighted-sum-nonlinearity"
   ]
  },
  {
   "cell_type": "code",
   "execution_count": 68,
   "metadata": {},
   "outputs": [
    {
     "name": "stdout",
     "output_type": "stream",
     "text": [
      "Number of features: 30\n"
     ]
    }
   ],
   "source": [
    "# Set the number of features (len of X cols)\n",
    "input_dim = X_train.shape[1]\n",
    "\n",
    "print(f\"Number of features: {input_dim}\")\n",
    "\n",
    "# Set the number of hidden layers\n",
    "hidden_layer_dim = 4\n",
    "\n",
    "# Set the number of classes\n",
    "output_dim = 1"
   ]
  },
  {
   "cell_type": "code",
   "execution_count": 69,
   "metadata": {},
   "outputs": [],
   "source": [
    "# Define the Neural Network class\n",
    "class NeuralNetwork(torch.nn.Module):\n",
    "    def __init__(self, input_dim, hidden_layer_dim, output_dim):\n",
    "        super(NeuralNetwork, self).__init__()\n",
    "\n",
    "        self.linear1 = nn.Linear(input_dim, hidden_layer_dim) # One hidden layer going from 30 to 4\n",
    "        self.linear2 = nn.Linear(hidden_layer_dim, output_dim) # One output layer going from 4 to 1\n",
    "\n",
    "    def forward(self, x):\n",
    "        x = torch.relu(self.linear1(x)) # ReLU activation function\n",
    "        x = torch.sigmoid(self.linear2(x)) # Sigmoid activation function - because we are doing binary classification (class probability)\n",
    "        return x"
   ]
  },
  {
   "cell_type": "code",
   "execution_count": 70,
   "metadata": {},
   "outputs": [
    {
     "name": "stdout",
     "output_type": "stream",
     "text": [
      "<bound method Module.parameters of NeuralNetwork(\n",
      "  (linear1): Linear(in_features=30, out_features=4, bias=True)\n",
      "  (linear2): Linear(in_features=4, out_features=1, bias=True)\n",
      ")>\n"
     ]
    }
   ],
   "source": [
    "# Set a random seed for reproducibility\n",
    "torch.manual_seed(42)\n",
    "\n",
    "# Instantiate the Neural Network class\n",
    "clf = NeuralNetwork(input_dim, hidden_layer_dim, output_dim)\n",
    "\n",
    "# Print out details about the layers of the model\n",
    "print(clf.parameters)"
   ]
  },
  {
   "cell_type": "code",
   "execution_count": 71,
   "metadata": {},
   "outputs": [
    {
     "name": "stdout",
     "output_type": "stream",
     "text": [
      "Parameter containing:\n",
      "tensor([[ 0.1396,  0.1515, -0.0428,  0.1677, -0.0400,  0.0368, -0.0889,  0.1072,\n",
      "          0.1609, -0.1339,  0.1587,  0.0342,  0.1349,  0.0247,  0.0880, -0.0258,\n",
      "          0.1407,  0.0270, -0.0852,  0.0465, -0.0841, -0.0214, -0.0742,  0.1211,\n",
      "         -0.1441, -0.0842, -0.0516, -0.1098,  0.0172, -0.1803],\n",
      "        [ 0.1649, -0.1551,  0.1410,  0.0304, -0.0593,  0.1128,  0.0285,  0.1475,\n",
      "          0.0200, -0.0576,  0.0491, -0.0495,  0.0768,  0.1630,  0.1055, -0.0798,\n",
      "          0.1054,  0.0327,  0.0927, -0.1113, -0.1807, -0.0705, -0.1400,  0.1498,\n",
      "          0.0526,  0.0756,  0.0577, -0.0032,  0.1429, -0.1297],\n",
      "        [ 0.0115, -0.1246,  0.0563, -0.0629,  0.0559, -0.0380,  0.1514, -0.1082,\n",
      "         -0.1089, -0.1089,  0.1642,  0.0608,  0.1757, -0.1507, -0.1811, -0.1428,\n",
      "         -0.1228,  0.0739,  0.0654,  0.1517, -0.0943, -0.1245,  0.0969, -0.0738,\n",
      "          0.1108, -0.0433,  0.1044, -0.1419, -0.0921,  0.0557],\n",
      "        [ 0.0386, -0.0465,  0.1088,  0.1241, -0.1324, -0.0975,  0.1672, -0.0616,\n",
      "         -0.0647, -0.1767, -0.1046,  0.0456, -0.0241, -0.1325,  0.0043, -0.1247,\n",
      "         -0.1549, -0.1005, -0.1598, -0.1163,  0.1825,  0.0345,  0.0563, -0.1703,\n",
      "         -0.1199, -0.0608,  0.0285, -0.1607, -0.0787, -0.1093]],\n",
      "       requires_grad=True)\n",
      "Parameter containing:\n",
      "tensor([ 0.0005, -0.0679, -0.0127, -0.1237], requires_grad=True)\n",
      "Type of w:  <class 'torch.nn.parameter.Parameter'>\n",
      "tensor([[ 0.1396,  0.1515, -0.0428,  0.1677, -0.0400,  0.0368, -0.0889,  0.1072,\n",
      "          0.1609, -0.1339,  0.1587,  0.0342,  0.1349,  0.0247,  0.0880, -0.0258,\n",
      "          0.1407,  0.0270, -0.0852,  0.0465, -0.0841, -0.0214, -0.0742,  0.1211,\n",
      "         -0.1441, -0.0842, -0.0516, -0.1098,  0.0172, -0.1803],\n",
      "        [ 0.1649, -0.1551,  0.1410,  0.0304, -0.0593,  0.1128,  0.0285,  0.1475,\n",
      "          0.0200, -0.0576,  0.0491, -0.0495,  0.0768,  0.1630,  0.1055, -0.0798,\n",
      "          0.1054,  0.0327,  0.0927, -0.1113, -0.1807, -0.0705, -0.1400,  0.1498,\n",
      "          0.0526,  0.0756,  0.0577, -0.0032,  0.1429, -0.1297],\n",
      "        [ 0.0115, -0.1246,  0.0563, -0.0629,  0.0559, -0.0380,  0.1514, -0.1082,\n",
      "         -0.1089, -0.1089,  0.1642,  0.0608,  0.1757, -0.1507, -0.1811, -0.1428,\n",
      "         -0.1228,  0.0739,  0.0654,  0.1517, -0.0943, -0.1245,  0.0969, -0.0738,\n",
      "          0.1108, -0.0433,  0.1044, -0.1419, -0.0921,  0.0557],\n",
      "        [ 0.0386, -0.0465,  0.1088,  0.1241, -0.1324, -0.0975,  0.1672, -0.0616,\n",
      "         -0.0647, -0.1767, -0.1046,  0.0456, -0.0241, -0.1325,  0.0043, -0.1247,\n",
      "         -0.1549, -0.1005, -0.1598, -0.1163,  0.1825,  0.0345,  0.0563, -0.1703,\n",
      "         -0.1199, -0.0608,  0.0285, -0.1607, -0.0787, -0.1093]])\n",
      "Type of w.data  <class 'torch.Tensor'>\n"
     ]
    }
   ],
   "source": [
    "# Access the layers of a model\n",
    "\n",
    "# Output the parameters of the model and store them in a list\n",
    "[w, b] = clf.linear1.parameters()\n",
    "\n",
    "# Print the weights of layer 1, this object is a tuple with\n",
    "print(w)\n",
    "\n",
    "# Print the biases in layer 1\n",
    "print(b)\n",
    "\n",
    "print(\"Type of w: \", type(w))\n",
    "\n",
    "# To access the tensor data we use the .data attribute\n",
    "print(w.data)\n",
    "\n",
    "print(\"Type of w.data \", type(w.data))"
   ]
  },
  {
   "cell_type": "markdown",
   "metadata": {},
   "source": [
    "#### Loss function\n",
    "\n",
    "During training, the loss function tells you how close your predicted value is to the actual output value. The choice of loss function depends on the activation function used in the output layer and what your model is predicting.\n",
    "\n",
    "For example:\n",
    "- Regression\n",
    "    - Mean squared error, `nn.MSELoss`\n",
    "- Binary classification\n",
    "    - Binary cross-entropy, `nn.BCELoss`\n",
    "\n",
    "Here is documentation on the loss functions available in Pytorch: \n",
    "\n",
    "https://pytorch.org/docs/stable/nn.html#loss-functions"
   ]
  },
  {
   "cell_type": "code",
   "execution_count": 72,
   "metadata": {},
   "outputs": [],
   "source": [
    "loss_function = nn.BCELoss()"
   ]
  },
  {
   "cell_type": "markdown",
   "metadata": {},
   "source": [
    "#### Optimizer\n",
    "\n",
    "The optimizer is an object that is used to update the weights of your model. The optimizer updates the model weights by iteratively minimizing the loss function. This process is called backward propagation. \n",
    "\n",
    "The process of training a model requires multiple steps of forward propagation (data flowing through the model), backward propagation (updating model weights to minimize the cost function). One step of forward and backward propagation is called an epoch. As you increase the number of epochs to train your model, the model should become more accurate making predicting on the training data.\n",
    "\n",
    "For details on the optimizers that you can choose:\n",
    "\n",
    "https://pytorch.org/docs/stable/optim.html\n",
    "\n",
    "Backward propagation requires calculating partial derivatives of tensors. This is done efficiently using Pytroch Autograd capabilities. This is discussed further in the Autograd section of this notebook."
   ]
  },
  {
   "cell_type": "code",
   "execution_count": 73,
   "metadata": {},
   "outputs": [
    {
     "name": "stdout",
     "output_type": "stream",
     "text": [
      "epoch 0  loss : 0.37144  accuracy : 0.81319\n",
      "epoch 1  loss : 0.28846  accuracy : 0.86044\n",
      "epoch 2  loss : 0.25076  accuracy : 0.88571\n",
      "epoch 3  loss : 0.22328  accuracy : 0.90055\n",
      "epoch 4  loss : 0.20043  accuracy : 0.90989\n",
      "epoch 5  loss : 0.18121  accuracy : 0.91648\n",
      "epoch 6  loss : 0.16496  accuracy : 0.92119\n",
      "epoch 7  loss : 0.15109  accuracy : 0.92500\n",
      "epoch 8  loss : 0.13917  accuracy : 0.92869\n",
      "epoch 9  loss : 0.12884  accuracy : 0.93209\n"
     ]
    }
   ],
   "source": [
    "# Set the optimzer as Stochastic Gradient Descent with a learning rate of 0.01\n",
    "optimizer = torch.optim.SGD(clf.parameters(), lr=0.01)\n",
    "\n",
    "# Set the number of epochs\n",
    "epochs = 10\n",
    "\n",
    "# Define correct and total variables that are initially set to zero\n",
    "# These variables are used to compute the training accuracy\n",
    "correct, total = 0, 0\n",
    "\n",
    "# Define empty list variables that store the losses and accuracies at each epoch\n",
    "losses = []\n",
    "accuracies = []\n",
    "\n",
    "# Loop over the number of epochs\n",
    "for epoch in range(epochs):\n",
    "    # Iterate over the minibatches in the trainloader\n",
    "    for data in trainloader: # data - tuple of (inputs, targets) of size (batch_size, 2)\n",
    "        # Get the input and target values in the minibatch\n",
    "        inputs, targets = data\n",
    "        # Forward propagation step\n",
    "        outputs = clf(inputs)\n",
    "        # Compute the loss\n",
    "        loss = loss_function(outputs, targets)\n",
    "\n",
    "        # Compute prediction, anything greater than 0.5 is rounded up to 1, less than 0.5 rounded down to 0\n",
    "        predicted = torch.round(outputs.data)\n",
    "        total += targets.size(0)\n",
    "        correct += (predicted == targets).sum().item()\n",
    "\n",
    "        # Zero out previous epoch gradients\n",
    "        optimizer.zero_grad()\n",
    "        # Backward propagation\n",
    "        loss.backward()\n",
    "        # Update model parameters\n",
    "        optimizer.step()\n",
    "    # Compute accuracy\n",
    "    acc = correct / total\n",
    "\n",
    "    losses.append(loss.item())\n",
    "    accuracies.append(acc)\n",
    "    \n",
    "    print(\"epoch {}  loss : {:.5f}  accuracy : {:.5f}\".format(epoch, loss, acc))"
   ]
  },
  {
   "cell_type": "markdown",
   "metadata": {},
   "source": [
    "#### Visualizing"
   ]
  },
  {
   "cell_type": "code",
   "execution_count": 74,
   "metadata": {},
   "outputs": [
    {
     "data": {
      "image/png": "[encoded data removed]",
      "text/plain": [
       "<Figure size 1000x500 with 2 Axes>"
      ]
     },
     "metadata": {},
     "output_type": "display_data"
    }
   ],
   "source": [
    "import matplotlib.pyplot as plt\n",
    "\n",
    "fig, (ax1, ax2) = plt.subplots(1, 2, sharex=True)\n",
    "# Adjust figure and axes properties\n",
    "fig.set_size_inches(10, 5)\n",
    "ax1.spines[['top', 'bottom', 'left', 'right']].set_linewidth(2)\n",
    "ax1.tick_params(width=2, labelsize=12)\n",
    "ax2.spines[['top', 'bottom', 'left', 'right']].set_linewidth(2)\n",
    "ax2.tick_params(width=2, labelsize=12)\n",
    "\n",
    "# Give the plot title and axis labels\n",
    "ax1.plot(losses)\n",
    "ax1.set_title('Loss vs Epochs', fontsize=20)\n",
    "ax1.set_xlabel('Epochs', fontsize=16)\n",
    "ax1.set_ylabel('Loss', fontsize=16)\n",
    "ax2.plot(accuracies)\n",
    "ax2.set_title('Accuracy vs Epochs', fontsize=20)\n",
    "ax2.set_xlabel('Epochs', fontsize=16)\n",
    "ax1.set_ylabel('Accuracy', fontsize=16)\n",
    "\n",
    "# Adjust the subplots to look nice\n",
    "plt.subplots_adjust(left=0.1,\n",
    "                    bottom=0.1,\n",
    "                    right=0.9,\n",
    "                    top=0.9,\n",
    "                    wspace=0.4,\n",
    "                    hspace=0.4)\n",
    "# Display the plot\n",
    "plt.show()"
   ]
  },
  {
   "cell_type": "markdown",
   "metadata": {},
   "source": [
    "#### Testing the model"
   ]
  },
  {
   "cell_type": "code",
   "execution_count": 76,
   "metadata": {},
   "outputs": [
    {
     "name": "stdout",
     "output_type": "stream",
     "text": [
      "Accuracy of the network on the 114 test data: 98 %\n"
     ]
    }
   ],
   "source": [
    "testdata = WisconsinDataset(X_test, y_test)\n",
    "testloader = DataLoader(testdata, batch_size=batch_size)\n",
    "\n",
    "correct, total = 0, 0\n",
    "# no need to calculate gradients when making predictions\n",
    "with torch.no_grad():\n",
    "    for data in testloader:\n",
    "        inputs, labels = data\n",
    "        # calculate output by running through the network\n",
    "        outputs = clf(inputs)\n",
    "        # get the predictions\n",
    "        predicted = torch.round(outputs.data)\n",
    "        # update results\n",
    "        total += labels.size(0)\n",
    "        correct += (predicted == labels).sum().item()\n",
    "    print(f'Accuracy of the network on the {len(testdata)} test data: {100 * correct // total} %')"
   ]
  },
  {
   "cell_type": "markdown",
   "metadata": {},
   "source": [
    "### Autograd\n",
    "\n",
    "Autograd is a feature of Pytorch that makes it flexible and fast for backpropagation based neural network learning. It allows for fast and easy computation of gradients (partial derivatives). We will illustrate some of the basic features of autograd in this section. \n",
    "\n",
    "Understanding how to enable and disable autograd is important. An example of this is when you want to finetune a pretrained model. You can add downstream layers to a pretrained model. To only train these layers, you can enable  autograd features to only compute the gradients and update the model weights of the downstream layers. \n",
    "\n",
    "#### Example\n",
    "\n",
    "Consider the following sequence of operations:\n",
    "\n",
    "```\n",
    "a = torch.linspace(0., 2.*math.pi, steps=25, requires_grad=True)\n",
    "b = torch.sin(a)\n",
    "c = 2 * b\n",
    "d = c + 1\n",
    "out = d.sum()\n",
    "```"
   ]
  },
  {
   "cell_type": "code",
   "execution_count": null,
   "metadata": {},
   "outputs": [],
   "source": [
    "import math \n",
    "\n",
    "a = torch.linspace(0., 2.*math.pi, steps=25, requires_grad=True)\n",
    "b = torch.sin(a)\n",
    "c = 2 * b\n",
    "d = c + 1\n",
    "out = d.sum()"
   ]
  },
  {
   "cell_type": "code",
   "execution_count": null,
   "metadata": {},
   "outputs": [
    {
     "data": {
      "image/png": "[encoded data removed]",
      "text/plain": [
       "<Figure size 640x480 with 1 Axes>"
      ]
     },
     "metadata": {},
     "output_type": "display_data"
    }
   ],
   "source": [
    "plt.plot(a.detach(), b.detach())\n",
    "plt.show()"
   ]
  },
  {
   "cell_type": "code",
   "execution_count": null,
   "metadata": {},
   "outputs": [
    {
     "name": "stdout",
     "output_type": "stream",
     "text": [
      "tensor([ 0.0000e+00,  2.5882e-01,  5.0000e-01,  7.0711e-01,  8.6603e-01,\n",
      "         9.6593e-01,  1.0000e+00,  9.6593e-01,  8.6603e-01,  7.0711e-01,\n",
      "         5.0000e-01,  2.5882e-01, -8.7423e-08, -2.5882e-01, -5.0000e-01,\n",
      "        -7.0711e-01, -8.6603e-01, -9.6593e-01, -1.0000e+00, -9.6593e-01,\n",
      "        -8.6603e-01, -7.0711e-01, -5.0000e-01, -2.5882e-01,  1.7485e-07],\n",
      "       grad_fn=<SinBackward0>)\n",
      "tensor([ 0.0000e+00,  5.1764e-01,  1.0000e+00,  1.4142e+00,  1.7321e+00,\n",
      "         1.9319e+00,  2.0000e+00,  1.9319e+00,  1.7321e+00,  1.4142e+00,\n",
      "         1.0000e+00,  5.1764e-01, -1.7485e-07, -5.1764e-01, -1.0000e+00,\n",
      "        -1.4142e+00, -1.7321e+00, -1.9319e+00, -2.0000e+00, -1.9319e+00,\n",
      "        -1.7321e+00, -1.4142e+00, -1.0000e+00, -5.1764e-01,  3.4969e-07],\n",
      "       grad_fn=<MulBackward0>)\n",
      "tensor([ 1.0000e+00,  1.5176e+00,  2.0000e+00,  2.4142e+00,  2.7321e+00,\n",
      "         2.9319e+00,  3.0000e+00,  2.9319e+00,  2.7321e+00,  2.4142e+00,\n",
      "         2.0000e+00,  1.5176e+00,  1.0000e+00,  4.8236e-01, -3.5763e-07,\n",
      "        -4.1421e-01, -7.3205e-01, -9.3185e-01, -1.0000e+00, -9.3185e-01,\n",
      "        -7.3205e-01, -4.1421e-01,  4.7684e-07,  4.8236e-01,  1.0000e+00],\n",
      "       grad_fn=<AddBackward0>)\n",
      "tensor(25., grad_fn=<SumBackward0>)\n"
     ]
    }
   ],
   "source": [
    "print(b)\n",
    "\n",
    "print(c)\n",
    "\n",
    "print(d)\n",
    "\n",
    "print(out)"
   ]
  },
  {
   "cell_type": "code",
   "execution_count": null,
   "metadata": {},
   "outputs": [
    {
     "name": "stdout",
     "output_type": "stream",
     "text": [
      "d:\n",
      "<AddBackward0 object at 0x2bfe13310>\n",
      "((<MulBackward0 object at 0x2bfe13280>, 0), (None, 0))\n",
      "((<SinBackward0 object at 0x2bfe13310>, 0), (None, 0))\n",
      "((<AccumulateGrad object at 0x2bfe132b0>, 0),)\n",
      "()\n",
      "\n",
      "c:\n",
      "<MulBackward0 object at 0x2bfe13280>\n",
      "\n",
      "b:\n",
      "<SinBackward0 object at 0x2bfe13280>\n",
      "\n",
      "a:\n",
      "None\n"
     ]
    }
   ],
   "source": [
    "print('d:')\n",
    "print(d.grad_fn)\n",
    "print(d.grad_fn.next_functions)\n",
    "print(d.grad_fn.next_functions[0][0].next_functions)\n",
    "print(d.grad_fn.next_functions[0][0].next_functions[0][0].next_functions)\n",
    "print(d.grad_fn.next_functions[0][0].next_functions[0][0].next_functions[0][0].next_functions)\n",
    "print('\\nc:')\n",
    "print(c.grad_fn)\n",
    "print('\\nb:')\n",
    "print(b.grad_fn)\n",
    "print('\\na:')\n",
    "print(a.grad_fn)"
   ]
  },
  {
   "cell_type": "code",
   "execution_count": null,
   "metadata": {},
   "outputs": [
    {
     "name": "stdout",
     "output_type": "stream",
     "text": [
      "tensor([ 2.0000e+00,  1.9319e+00,  1.7321e+00,  1.4142e+00,  1.0000e+00,\n",
      "         5.1764e-01, -8.7423e-08, -5.1764e-01, -1.0000e+00, -1.4142e+00,\n",
      "        -1.7321e+00, -1.9319e+00, -2.0000e+00, -1.9319e+00, -1.7321e+00,\n",
      "        -1.4142e+00, -1.0000e+00, -5.1764e-01,  2.3850e-08,  5.1764e-01,\n",
      "         1.0000e+00,  1.4142e+00,  1.7321e+00,  1.9319e+00,  2.0000e+00])\n"
     ]
    },
    {
     "data": {
      "image/png": "[encoded data removed]",
      "text/plain": [
       "<Figure size 640x480 with 1 Axes>"
      ]
     },
     "metadata": {},
     "output_type": "display_data"
    }
   ],
   "source": [
    "out.backward()\n",
    "print(a.grad)\n",
    "plt.plot(a.detach(), a.grad.detach())\n",
    "plt.show()"
   ]
  },
  {
   "cell_type": "markdown",
   "metadata": {},
   "source": [
    "#### Disabling autograd\n",
    "\n",
    "The way to disable a gradient being calculated is by setting the property `requires_grad = False`. To achieve this in a model you can adapt the following code:\n",
    "\n",
    "```\n",
    "for param in model.parameters():\n",
    "    param.requires_grad = False\n",
    "```"
   ]
  }
 ],
 "metadata": {
  "kernelspec": {
   "display_name": "base",
   "language": "python",
   "name": "python3"
  },
  "language_info": {
   "codemirror_mode": {
    "name": "ipython",
    "version": 3
   },
   "file_extension": ".py",
   "mimetype": "text/x-python",
   "name": "python",
   "nbconvert_exporter": "python",
   "pygments_lexer": "ipython3",
   "version": "3.11.5"
  }
 },
 "nbformat": 4,
 "nbformat_minor": 2
}
